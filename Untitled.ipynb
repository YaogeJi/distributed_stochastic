{
 "cells": [
  {
   "cell_type": "code",
   "execution_count": 19,
   "id": "5ddd6366",
   "metadata": {},
   "outputs": [],
   "source": [
    "import numpy as np"
   ]
  },
  {
   "cell_type": "code",
   "execution_count": 38,
   "id": "abae6a9e",
   "metadata": {},
   "outputs": [
    {
     "name": "stdout",
     "output_type": "stream",
     "text": [
      "[[-4  5  6]\n",
      " [ 7 -8  9]]\n",
      "-----\n"
     ]
    }
   ],
   "source": [
    "m =2\n",
    "d = 3\n",
    "A = np.array([[-4,5,6],[7,-8,9]])\n",
    "B = np.array([[1,1,2],[3,3,4],[5,6,7]])\n",
    "print(A)\n",
    "print(\"-----\")"
   ]
  },
  {
   "cell_type": "code",
   "execution_count": 40,
   "id": "1c03d44a",
   "metadata": {},
   "outputs": [
    {
     "data": {
      "text/plain": [
       "array([ 1.5, -1.5,  7.5])"
      ]
     },
     "execution_count": 40,
     "metadata": {},
     "output_type": "execute_result"
    }
   ],
   "source": [
    "\n",
    "np.linalg.norm(A.mean(axis=0), ord=1)"
   ]
  },
  {
   "cell_type": "code",
   "execution_count": 31,
   "id": "3054a7f0",
   "metadata": {},
   "outputs": [
    {
     "data": {
      "text/plain": [
       "17.91647286716892"
      ]
     },
     "execution_count": 31,
     "metadata": {},
     "output_type": "execute_result"
    }
   ],
   "source": []
  },
  {
   "cell_type": "code",
   "execution_count": null,
   "id": "c1d882cf",
   "metadata": {},
   "outputs": [],
   "source": []
  }
 ],
 "metadata": {
  "kernelspec": {
   "display_name": "Python 3 (ipykernel)",
   "language": "python",
   "name": "python3"
  },
  "language_info": {
   "codemirror_mode": {
    "name": "ipython",
    "version": 3
   },
   "file_extension": ".py",
   "mimetype": "text/x-python",
   "name": "python",
   "nbconvert_exporter": "python",
   "pygments_lexer": "ipython3",
   "version": "3.9.12"
  }
 },
 "nbformat": 4,
 "nbformat_minor": 5
}
